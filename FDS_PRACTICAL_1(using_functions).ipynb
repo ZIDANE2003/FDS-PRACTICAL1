{
  "nbformat": 4,
  "nbformat_minor": 0,
  "metadata": {
    "colab": {
      "name": "FDS PRACTICAL-1(using functions)",
      "provenance": [],
      "collapsed_sections": [],
      "toc_visible": true,
      "include_colab_link": true
    },
    "kernelspec": {
      "display_name": "Python 3",
      "name": "python3"
    }
  },
  "cells": [
    {
      "cell_type": "markdown",
      "metadata": {
        "id": "view-in-github",
        "colab_type": "text"
      },
      "source": [
        "<a href=\"https://colab.research.google.com/github/ZIDANE2003/FDS-PRACTICAL1/blob/main/FDS_PRACTICAL_1(using_functions).ipynb\" target=\"_parent\"><img src=\"https://colab.research.google.com/assets/colab-badge.svg\" alt=\"Open In Colab\"/></a>"
      ]
    },
    {
      "cell_type": "code",
      "metadata": {
        "colab": {
          "base_uri": "https://localhost:8080/"
        },
        "id": "iQXiOQimV-Ou",
        "outputId": "88399b2b-5eb2-4623-a0fd-87bb96391331"
      },
      "source": [
        "# PROGRAM USING FUNCTIONS\n",
        "list1=[]\n",
        "print(\"Enter no of students\")\n",
        "n=int(input())\n",
        "print(\"Enter number  of marks of students in list\")\n",
        "for i in range(0,n):\n",
        "  marks=int(input())\n",
        "  list1.append(marks)\n",
        "print(list1)  \n",
        "\n",
        "\n",
        "def SUM_AVERAGE():\n",
        "  count=0\n",
        "  for i in range(0,n):\n",
        "    count+=list1[i] \n",
        "    avg=count/n\n",
        "  print(\"Sum of marks of students is :\",count)\n",
        "  print(\"Average of marks of sudents is :\",avg)\n",
        "SUM_AVERAGE()\n",
        "\n",
        "def MAXIMUM():\n",
        "  max=list1[0]\n",
        "  for i in range (0,n):\n",
        "    if (list1[i]>max):\n",
        "      max=list1[i]\n",
        "  print(\"maximum marks of student is \",max)\n",
        "MAXIMUM()\n",
        "\n",
        "def MINIMUM(): \n",
        "  min=list1[0]\n",
        "  for i in range (0,n):\n",
        "    if (list1[i]<min):\n",
        "      min=list1[i]\n",
        "  print(\"minimum markso f student is \",min)\n",
        "MINIMUM()\n",
        "\n",
        "def FREQUENCY():\n",
        "  high = 0\n",
        "  freq=list1[0]\n",
        "  for i in list1:\n",
        "    marks=list1.count(i)\n",
        "    if marks>high:\n",
        "      high=marks\n",
        "      freq=i\n",
        "      print(\" marks with highest frequency\",freq)\n",
        "FREQUENCY()  \n",
        "\n",
        "def ABSENT():\n",
        "  abst=0\n",
        "  for i in list1:\n",
        "    if i ==-999:\n",
        "      abst=abst+1\n",
        "  print(\"absent students \",abst) \n",
        "\n",
        "ABSENT()      \n"
      ],
      "execution_count": null,
      "outputs": [
        {
          "output_type": "stream",
          "name": "stdout",
          "text": [
            "Enter no of students\n",
            "4\n",
            "Enter number  of marks of students in list\n",
            "22\n",
            "22\n",
            "23\n",
            "25\n",
            "[22, 22, 23, 25]\n",
            "Sum of marks of students is : 92\n",
            "Average of marks of sudents is : 23.0\n",
            "maximum marks of student is  25\n",
            "minimum markso f student is  22\n",
            " marks with highest frequency 22\n",
            "absent students  0\n"
          ]
        }
      ]
    }
  ]
}