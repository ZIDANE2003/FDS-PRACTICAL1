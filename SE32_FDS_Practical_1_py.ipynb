{
  "nbformat": 4,
  "nbformat_minor": 0,
  "metadata": {
    "colab": {
      "name": "SE32 FDS Practical 1.py",
      "provenance": [],
      "collapsed_sections": [],
      "include_colab_link": true
    },
    "kernelspec": {
      "display_name": "Python 3",
      "name": "python3"
    }
  },
  "cells": [
    {
      "cell_type": "markdown",
      "metadata": {
        "id": "view-in-github",
        "colab_type": "text"
      },
      "source": [
        "<a href=\"https://colab.research.google.com/github/ZIDANE2003/FDS-PRACTICAL1/blob/main/SE32_FDS_Practical_1_py.ipynb\" target=\"_parent\"><img src=\"https://colab.research.google.com/assets/colab-badge.svg\" alt=\"Open In Colab\"/></a>"
      ]
    },
    {
      "cell_type": "code",
      "metadata": {
        "id": "4r534kkKvYJm"
      },
      "source": [
        "list1=[]\n",
        "avg=0\n",
        "count=0\n",
        "print(\"Enter no of students\")\n",
        "n=int(input())\n",
        "print(\"Enter number  of marks of students in list\")\n",
        "for i in range(0,n):\n",
        "  marks=int(input())\n",
        "  list1.append(marks)\n",
        "\n",
        "for i in range(0,n):\n",
        "  count+=list1[i]\n",
        "  avg=count/n\n",
        "print(\"Sum of marks of students is :\",count)\n",
        "print(\"Average of marks of sudents is :\",avg)\n",
        "max=list1[0]\n",
        "for i in range (0,n):\n",
        "  if(list1[i]>max):\n",
        "    max=list1[i]\n",
        "print(\"maximum marks of student is \",max)\n",
        "min=list1[0]\n",
        "for i in range (0,n):\n",
        "  if(list1[i]<min):\n",
        "    min=list1[i]\n",
        "print(\"minimum marksof student is \",min)\n",
        "high = 0\n",
        "freq=list1[0]\n",
        "for i in list1:\n",
        "  marks=list1.count(i)\n",
        "  if marks>high:\n",
        "    high=marks\n",
        "    freq=i\n",
        "print(\" marks with highest frequency\",freq)\n",
        "abst=0\n",
        "for i in list1:\n",
        "  if i ==-999:\n",
        "    abst=abst+1\n",
        "print(\"absent students \",abst)      \n",
        "\n",
        "\n"
      ],
      "execution_count": null,
      "outputs": []
    }
  ]
}